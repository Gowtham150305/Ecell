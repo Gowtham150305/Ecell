{
  "nbformat": 4,
  "nbformat_minor": 0,
  "metadata": {
    "colab": {
      "provenance": [],
      "machine_shape": "hm"
    },
    "kernelspec": {
      "name": "python3",
      "display_name": "Python 3"
    }
  },
  "cells": [
    {
      "cell_type": "markdown",
      "metadata": {
        "id": "0MRC0e0KhQ0S"
      },
      "source": [
        "# Naive Bayes"
      ]
    },
    {
      "cell_type": "code",
      "metadata": {
        "id": "YvGPUQaHhXfL",
        "colab": {
          "base_uri": "https://localhost:8080/"
        },
        "outputId": "68ad9862-6cd9-4dda-d002-a2a327f55205"
      },
      "source": [
        "import pandas as pd\n",
        "from sklearn.model_selection import train_test_split\n",
        "from sklearn.preprocessing import StandardScaler\n",
        "from sklearn.ensemble import RandomForestClassifier\n",
        "from sklearn.metrics import accuracy_score, confusion_matrix, classification_report\n",
        "\n",
        "\n",
        "df = pd.read_csv('ForestCoverType.csv')\n",
        "\n",
        "\n",
        "print(df.info())\n",
        "print(df.head())\n"
      ],
      "execution_count": 1,
      "outputs": [
        {
          "output_type": "stream",
          "name": "stdout",
          "text": [
            "<class 'pandas.core.frame.DataFrame'>\n",
            "RangeIndex: 15120 entries, 0 to 15119\n",
            "Data columns (total 56 columns):\n",
            " #   Column                              Non-Null Count  Dtype\n",
            "---  ------                              --------------  -----\n",
            " 0   Id                                  15120 non-null  int64\n",
            " 1   Elevation                           15120 non-null  int64\n",
            " 2   Aspect                              15120 non-null  int64\n",
            " 3   Slope                               15120 non-null  int64\n",
            " 4   Horizontal_Distance_To_Hydrology    15120 non-null  int64\n",
            " 5   Vertical_Distance_To_Hydrology      15120 non-null  int64\n",
            " 6   Horizontal_Distance_To_Roadways     15120 non-null  int64\n",
            " 7   Hillshade_9am                       15120 non-null  int64\n",
            " 8   Hillshade_Noon                      15120 non-null  int64\n",
            " 9   Hillshade_3pm                       15120 non-null  int64\n",
            " 10  Horizontal_Distance_To_Fire_Points  15120 non-null  int64\n",
            " 11  Wilderness_Area1                    15120 non-null  int64\n",
            " 12  Wilderness_Area2                    15120 non-null  int64\n",
            " 13  Wilderness_Area3                    15120 non-null  int64\n",
            " 14  Wilderness_Area4                    15120 non-null  int64\n",
            " 15  Soil_Type1                          15120 non-null  int64\n",
            " 16  Soil_Type2                          15120 non-null  int64\n",
            " 17  Soil_Type3                          15120 non-null  int64\n",
            " 18  Soil_Type4                          15120 non-null  int64\n",
            " 19  Soil_Type5                          15120 non-null  int64\n",
            " 20  Soil_Type6                          15120 non-null  int64\n",
            " 21  Soil_Type7                          15120 non-null  int64\n",
            " 22  Soil_Type8                          15120 non-null  int64\n",
            " 23  Soil_Type9                          15120 non-null  int64\n",
            " 24  Soil_Type10                         15120 non-null  int64\n",
            " 25  Soil_Type11                         15120 non-null  int64\n",
            " 26  Soil_Type12                         15120 non-null  int64\n",
            " 27  Soil_Type13                         15120 non-null  int64\n",
            " 28  Soil_Type14                         15120 non-null  int64\n",
            " 29  Soil_Type15                         15120 non-null  int64\n",
            " 30  Soil_Type16                         15120 non-null  int64\n",
            " 31  Soil_Type17                         15120 non-null  int64\n",
            " 32  Soil_Type18                         15120 non-null  int64\n",
            " 33  Soil_Type19                         15120 non-null  int64\n",
            " 34  Soil_Type20                         15120 non-null  int64\n",
            " 35  Soil_Type21                         15120 non-null  int64\n",
            " 36  Soil_Type22                         15120 non-null  int64\n",
            " 37  Soil_Type23                         15120 non-null  int64\n",
            " 38  Soil_Type24                         15120 non-null  int64\n",
            " 39  Soil_Type25                         15120 non-null  int64\n",
            " 40  Soil_Type26                         15120 non-null  int64\n",
            " 41  Soil_Type27                         15120 non-null  int64\n",
            " 42  Soil_Type28                         15120 non-null  int64\n",
            " 43  Soil_Type29                         15120 non-null  int64\n",
            " 44  Soil_Type30                         15120 non-null  int64\n",
            " 45  Soil_Type31                         15120 non-null  int64\n",
            " 46  Soil_Type32                         15120 non-null  int64\n",
            " 47  Soil_Type33                         15120 non-null  int64\n",
            " 48  Soil_Type34                         15120 non-null  int64\n",
            " 49  Soil_Type35                         15120 non-null  int64\n",
            " 50  Soil_Type36                         15120 non-null  int64\n",
            " 51  Soil_Type37                         15120 non-null  int64\n",
            " 52  Soil_Type38                         15120 non-null  int64\n",
            " 53  Soil_Type39                         15120 non-null  int64\n",
            " 54  Soil_Type40                         15120 non-null  int64\n",
            " 55  Cover_Type                          15120 non-null  int64\n",
            "dtypes: int64(56)\n",
            "memory usage: 6.5 MB\n",
            "None\n",
            "   Id  Elevation  Aspect  Slope  Horizontal_Distance_To_Hydrology  \\\n",
            "0   1       2596      51      3                               258   \n",
            "1   2       2590      56      2                               212   \n",
            "2   3       2804     139      9                               268   \n",
            "3   4       2785     155     18                               242   \n",
            "4   5       2595      45      2                               153   \n",
            "\n",
            "   Vertical_Distance_To_Hydrology  Horizontal_Distance_To_Roadways  \\\n",
            "0                               0                              510   \n",
            "1                              -6                              390   \n",
            "2                              65                             3180   \n",
            "3                             118                             3090   \n",
            "4                              -1                              391   \n",
            "\n",
            "   Hillshade_9am  Hillshade_Noon  Hillshade_3pm  ...  Soil_Type32  \\\n",
            "0            221             232            148  ...            0   \n",
            "1            220             235            151  ...            0   \n",
            "2            234             238            135  ...            0   \n",
            "3            238             238            122  ...            0   \n",
            "4            220             234            150  ...            0   \n",
            "\n",
            "   Soil_Type33  Soil_Type34  Soil_Type35  Soil_Type36  Soil_Type37  \\\n",
            "0            0            0            0            0            0   \n",
            "1            0            0            0            0            0   \n",
            "2            0            0            0            0            0   \n",
            "3            0            0            0            0            0   \n",
            "4            0            0            0            0            0   \n",
            "\n",
            "   Soil_Type38  Soil_Type39  Soil_Type40  Cover_Type  \n",
            "0            0            0            0           5  \n",
            "1            0            0            0           5  \n",
            "2            0            0            0           2  \n",
            "3            0            0            0           2  \n",
            "4            0            0            0           5  \n",
            "\n",
            "[5 rows x 56 columns]\n"
          ]
        }
      ]
    },
    {
      "cell_type": "code",
      "metadata": {
        "id": "AVzJWAXIhxoC"
      },
      "source": [
        "\n",
        "X = df.drop(columns=['Id', 'Cover_Type'])\n",
        "y = df['Cover_Type']\n",
        "\n",
        "\n",
        "X_train, X_test, y_train, y_test = train_test_split(X, y, test_size=0.3, random_state=42)\n",
        "\n",
        "\n",
        "scaler = StandardScaler()\n",
        "X_train_scaled = scaler.fit_transform(X_train)\n",
        "X_test_scaled = scaler.transform(X_test)\n"
      ],
      "execution_count": 3,
      "outputs": []
    },
    {
      "cell_type": "code",
      "metadata": {
        "id": "P3nS3-6r1i2B",
        "outputId": "060ef522-39de-4795-d146-6667b3a7e965",
        "colab": {
          "base_uri": "https://localhost:8080/"
        }
      },
      "source": [
        "print(X_train)"
      ],
      "execution_count": null,
      "outputs": [
        {
          "output_type": "stream",
          "name": "stdout",
          "text": [
            "[[ 8918  3260   233 ...     0     0     0]\n",
            " [ 5629  2386   288 ...     0     0     0]\n",
            " [14164  3184    30 ...     0     0     0]\n",
            " ...\n",
            " [ 9846  3515   158 ...     0     0     0]\n",
            " [10800  2575    80 ...     0     0     0]\n",
            " [ 2733  2738   304 ...     0     0     0]]\n"
          ]
        }
      ]
    },
    {
      "cell_type": "code",
      "metadata": {
        "id": "8dpDLojm1mVG",
        "outputId": "755dffb4-2627-4d33-b7db-c90445e58e9e",
        "colab": {
          "base_uri": "https://localhost:8080/"
        }
      },
      "source": [
        "print(y_train)"
      ],
      "execution_count": null,
      "outputs": [
        {
          "output_type": "stream",
          "name": "stdout",
          "text": [
            "[1 6 1 ... 7 3 5]\n"
          ]
        }
      ]
    },
    {
      "cell_type": "code",
      "metadata": {
        "id": "qbb7i0DH1qui",
        "outputId": "ce44a756-e3a8-4386-a580-c95b73f9748a",
        "colab": {
          "base_uri": "https://localhost:8080/"
        }
      },
      "source": [
        "print(X_test)"
      ],
      "execution_count": null,
      "outputs": [
        {
          "output_type": "stream",
          "name": "stdout",
          "text": [
            "[[ 4429  2220    18 ...     0     0     0]\n",
            " [12400  2139   119 ...     0     0     0]\n",
            " [ 4648  2292   109 ...     0     0     0]\n",
            " ...\n",
            " [ 8223  3244    64 ...     0     1     0]\n",
            " [13808  3350    76 ...     1     0     0]\n",
            " [ 5126  2361   329 ...     0     0     0]]\n"
          ]
        }
      ]
    },
    {
      "cell_type": "code",
      "metadata": {
        "id": "kj1hnFAR1s5w",
        "outputId": "298163b1-b63d-4a50-87cb-c82970e2eb6b",
        "colab": {
          "base_uri": "https://localhost:8080/"
        }
      },
      "source": [
        "print(y_test)"
      ],
      "execution_count": null,
      "outputs": [
        {
          "output_type": "stream",
          "name": "stdout",
          "text": [
            "[4 4 4 ... 7 7 3]\n"
          ]
        }
      ]
    },
    {
      "cell_type": "code",
      "metadata": {
        "id": "9fQlDPKCh8sc",
        "colab": {
          "base_uri": "https://localhost:8080/",
          "height": 74
        },
        "outputId": "6de33a05-3eb2-4ef0-d9de-eb1206edde19"
      },
      "source": [
        "\n",
        "rf_model = RandomForestClassifier(random_state=42)\n",
        "\n",
        "rf_model.fit(X_train_scaled, y_train)\n"
      ],
      "execution_count": 4,
      "outputs": [
        {
          "output_type": "execute_result",
          "data": {
            "text/plain": [
              "RandomForestClassifier(random_state=42)"
            ],
            "text/html": [
              "<style>#sk-container-id-1 {color: black;}#sk-container-id-1 pre{padding: 0;}#sk-container-id-1 div.sk-toggleable {background-color: white;}#sk-container-id-1 label.sk-toggleable__label {cursor: pointer;display: block;width: 100%;margin-bottom: 0;padding: 0.3em;box-sizing: border-box;text-align: center;}#sk-container-id-1 label.sk-toggleable__label-arrow:before {content: \"▸\";float: left;margin-right: 0.25em;color: #696969;}#sk-container-id-1 label.sk-toggleable__label-arrow:hover:before {color: black;}#sk-container-id-1 div.sk-estimator:hover label.sk-toggleable__label-arrow:before {color: black;}#sk-container-id-1 div.sk-toggleable__content {max-height: 0;max-width: 0;overflow: hidden;text-align: left;background-color: #f0f8ff;}#sk-container-id-1 div.sk-toggleable__content pre {margin: 0.2em;color: black;border-radius: 0.25em;background-color: #f0f8ff;}#sk-container-id-1 input.sk-toggleable__control:checked~div.sk-toggleable__content {max-height: 200px;max-width: 100%;overflow: auto;}#sk-container-id-1 input.sk-toggleable__control:checked~label.sk-toggleable__label-arrow:before {content: \"▾\";}#sk-container-id-1 div.sk-estimator input.sk-toggleable__control:checked~label.sk-toggleable__label {background-color: #d4ebff;}#sk-container-id-1 div.sk-label input.sk-toggleable__control:checked~label.sk-toggleable__label {background-color: #d4ebff;}#sk-container-id-1 input.sk-hidden--visually {border: 0;clip: rect(1px 1px 1px 1px);clip: rect(1px, 1px, 1px, 1px);height: 1px;margin: -1px;overflow: hidden;padding: 0;position: absolute;width: 1px;}#sk-container-id-1 div.sk-estimator {font-family: monospace;background-color: #f0f8ff;border: 1px dotted black;border-radius: 0.25em;box-sizing: border-box;margin-bottom: 0.5em;}#sk-container-id-1 div.sk-estimator:hover {background-color: #d4ebff;}#sk-container-id-1 div.sk-parallel-item::after {content: \"\";width: 100%;border-bottom: 1px solid gray;flex-grow: 1;}#sk-container-id-1 div.sk-label:hover label.sk-toggleable__label {background-color: #d4ebff;}#sk-container-id-1 div.sk-serial::before {content: \"\";position: absolute;border-left: 1px solid gray;box-sizing: border-box;top: 0;bottom: 0;left: 50%;z-index: 0;}#sk-container-id-1 div.sk-serial {display: flex;flex-direction: column;align-items: center;background-color: white;padding-right: 0.2em;padding-left: 0.2em;position: relative;}#sk-container-id-1 div.sk-item {position: relative;z-index: 1;}#sk-container-id-1 div.sk-parallel {display: flex;align-items: stretch;justify-content: center;background-color: white;position: relative;}#sk-container-id-1 div.sk-item::before, #sk-container-id-1 div.sk-parallel-item::before {content: \"\";position: absolute;border-left: 1px solid gray;box-sizing: border-box;top: 0;bottom: 0;left: 50%;z-index: -1;}#sk-container-id-1 div.sk-parallel-item {display: flex;flex-direction: column;z-index: 1;position: relative;background-color: white;}#sk-container-id-1 div.sk-parallel-item:first-child::after {align-self: flex-end;width: 50%;}#sk-container-id-1 div.sk-parallel-item:last-child::after {align-self: flex-start;width: 50%;}#sk-container-id-1 div.sk-parallel-item:only-child::after {width: 0;}#sk-container-id-1 div.sk-dashed-wrapped {border: 1px dashed gray;margin: 0 0.4em 0.5em 0.4em;box-sizing: border-box;padding-bottom: 0.4em;background-color: white;}#sk-container-id-1 div.sk-label label {font-family: monospace;font-weight: bold;display: inline-block;line-height: 1.2em;}#sk-container-id-1 div.sk-label-container {text-align: center;}#sk-container-id-1 div.sk-container {/* jupyter's `normalize.less` sets `[hidden] { display: none; }` but bootstrap.min.css set `[hidden] { display: none !important; }` so we also need the `!important` here to be able to override the default hidden behavior on the sphinx rendered scikit-learn.org. See: https://github.com/scikit-learn/scikit-learn/issues/21755 */display: inline-block !important;position: relative;}#sk-container-id-1 div.sk-text-repr-fallback {display: none;}</style><div id=\"sk-container-id-1\" class=\"sk-top-container\"><div class=\"sk-text-repr-fallback\"><pre>RandomForestClassifier(random_state=42)</pre><b>In a Jupyter environment, please rerun this cell to show the HTML representation or trust the notebook. <br />On GitHub, the HTML representation is unable to render, please try loading this page with nbviewer.org.</b></div><div class=\"sk-container\" hidden><div class=\"sk-item\"><div class=\"sk-estimator sk-toggleable\"><input class=\"sk-toggleable__control sk-hidden--visually\" id=\"sk-estimator-id-1\" type=\"checkbox\" checked><label for=\"sk-estimator-id-1\" class=\"sk-toggleable__label sk-toggleable__label-arrow\">RandomForestClassifier</label><div class=\"sk-toggleable__content\"><pre>RandomForestClassifier(random_state=42)</pre></div></div></div></div></div>"
            ]
          },
          "metadata": {},
          "execution_count": 4
        }
      ]
    },
    {
      "cell_type": "code",
      "source": [
        "\n",
        "y_pred = rf_model.predict(X_test_scaled)\n",
        "\n",
        "\n",
        "accuracy = accuracy_score(y_test, y_pred)\n",
        "conf_matrix = confusion_matrix(y_test, y_pred)\n",
        "class_report = classification_report(y_test, y_pred)\n",
        "\n",
        "print(f\"Accuracy: {accuracy}\")\n",
        "print(\"Confusion Matrix:\")\n",
        "print(conf_matrix)\n",
        "print(\"Classification Report:\")\n",
        "print(class_report)\n"
      ],
      "metadata": {
        "colab": {
          "base_uri": "https://localhost:8080/"
        },
        "id": "D6fqHVKFR0q6",
        "outputId": "1c9440e6-c8a3-41e0-f480-c91599bd4d88"
      },
      "execution_count": 5,
      "outputs": [
        {
          "output_type": "stream",
          "name": "stdout",
          "text": [
            "Accuracy: 0.86331569664903\n",
            "Confusion Matrix:\n",
            "[[478  89   1   0  21   0  31]\n",
            " [122 444  23   0  54  10   5]\n",
            " [  0   1 529  34   4  77   0]\n",
            " [  0   0   6 648   0   7   0]\n",
            " [  3  14  13   0 616   4   0]\n",
            " [  0   3  55  18   3 571   0]\n",
            " [ 21   1   0   0   0   0 630]]\n",
            "Classification Report:\n",
            "              precision    recall  f1-score   support\n",
            "\n",
            "           1       0.77      0.77      0.77       620\n",
            "           2       0.80      0.67      0.73       658\n",
            "           3       0.84      0.82      0.83       645\n",
            "           4       0.93      0.98      0.95       661\n",
            "           5       0.88      0.95      0.91       650\n",
            "           6       0.85      0.88      0.87       650\n",
            "           7       0.95      0.97      0.96       652\n",
            "\n",
            "    accuracy                           0.86      4536\n",
            "   macro avg       0.86      0.86      0.86      4536\n",
            "weighted avg       0.86      0.86      0.86      4536\n",
            "\n"
          ]
        }
      ]
    }
  ]
}